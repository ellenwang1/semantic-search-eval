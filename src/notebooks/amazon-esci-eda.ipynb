{
 "cells": [
  {
   "cell_type": "markdown",
   "id": "d88bb187",
   "metadata": {},
   "source": [
    "# Amazon ESCI dataset EDA\n",
    "\n",
    "The goal of this notebook is to identify how this dataset was created, any interesting features, benchmarks, and metrics used to evaluate it. Also, some simple EDA was performed to see distribution of features"
   ]
  },
  {
   "cell_type": "code",
   "execution_count": 130,
   "id": "74c90587",
   "metadata": {},
   "outputs": [],
   "source": [
    "import plotly.express as px\n",
    "import pandas as pd\n",
    "from ranx import Qrels, Run, evaluate\n",
    "from sklearn.feature_extraction.text import TfidfVectorizer\n",
    "from sklearn.metrics.pairwise import cosine_similarity"
   ]
  },
  {
   "cell_type": "code",
   "execution_count": 131,
   "id": "b813f527",
   "metadata": {},
   "outputs": [
    {
     "ename": "FileNotFoundError",
     "evalue": "[Errno 2] No such file or directory: '../data/shopping_queries_dataset_examples.parquet'",
     "output_type": "error",
     "traceback": [
      "\u001b[31m---------------------------------------------------------------------------\u001b[39m",
      "\u001b[31mFileNotFoundError\u001b[39m                         Traceback (most recent call last)",
      "\u001b[36mCell\u001b[39m\u001b[36m \u001b[39m\u001b[32mIn[131]\u001b[39m\u001b[32m, line 1\u001b[39m\n\u001b[32m----> \u001b[39m\u001b[32m1\u001b[39m df_examples = \u001b[43mpd\u001b[49m\u001b[43m.\u001b[49m\u001b[43mread_parquet\u001b[49m\u001b[43m(\u001b[49m\u001b[33;43m'\u001b[39;49m\u001b[33;43m../data/shopping_queries_dataset_examples.parquet\u001b[39;49m\u001b[33;43m'\u001b[39;49m\u001b[43m)\u001b[49m\n\u001b[32m      2\u001b[39m df_products = pd.read_parquet(\u001b[33m'\u001b[39m\u001b[33m../data/shopping_queries_dataset_products.parquet\u001b[39m\u001b[33m'\u001b[39m)\n\u001b[32m      3\u001b[39m df_sources = pd.read_csv(\u001b[33m\"\u001b[39m\u001b[33m../data/shopping_queries_dataset_sources.csv\u001b[39m\u001b[33m\"\u001b[39m)\n",
      "\u001b[36mFile \u001b[39m\u001b[32mc:\\Users\\ellen\\anaconda3\\envs\\venv-semantic-search\\Lib\\site-packages\\pandas\\io\\parquet.py:667\u001b[39m, in \u001b[36mread_parquet\u001b[39m\u001b[34m(path, engine, columns, storage_options, use_nullable_dtypes, dtype_backend, filesystem, filters, **kwargs)\u001b[39m\n\u001b[32m    664\u001b[39m     use_nullable_dtypes = \u001b[38;5;28;01mFalse\u001b[39;00m\n\u001b[32m    665\u001b[39m check_dtype_backend(dtype_backend)\n\u001b[32m--> \u001b[39m\u001b[32m667\u001b[39m \u001b[38;5;28;01mreturn\u001b[39;00m \u001b[43mimpl\u001b[49m\u001b[43m.\u001b[49m\u001b[43mread\u001b[49m\u001b[43m(\u001b[49m\n\u001b[32m    668\u001b[39m \u001b[43m    \u001b[49m\u001b[43mpath\u001b[49m\u001b[43m,\u001b[49m\n\u001b[32m    669\u001b[39m \u001b[43m    \u001b[49m\u001b[43mcolumns\u001b[49m\u001b[43m=\u001b[49m\u001b[43mcolumns\u001b[49m\u001b[43m,\u001b[49m\n\u001b[32m    670\u001b[39m \u001b[43m    \u001b[49m\u001b[43mfilters\u001b[49m\u001b[43m=\u001b[49m\u001b[43mfilters\u001b[49m\u001b[43m,\u001b[49m\n\u001b[32m    671\u001b[39m \u001b[43m    \u001b[49m\u001b[43mstorage_options\u001b[49m\u001b[43m=\u001b[49m\u001b[43mstorage_options\u001b[49m\u001b[43m,\u001b[49m\n\u001b[32m    672\u001b[39m \u001b[43m    \u001b[49m\u001b[43muse_nullable_dtypes\u001b[49m\u001b[43m=\u001b[49m\u001b[43muse_nullable_dtypes\u001b[49m\u001b[43m,\u001b[49m\n\u001b[32m    673\u001b[39m \u001b[43m    \u001b[49m\u001b[43mdtype_backend\u001b[49m\u001b[43m=\u001b[49m\u001b[43mdtype_backend\u001b[49m\u001b[43m,\u001b[49m\n\u001b[32m    674\u001b[39m \u001b[43m    \u001b[49m\u001b[43mfilesystem\u001b[49m\u001b[43m=\u001b[49m\u001b[43mfilesystem\u001b[49m\u001b[43m,\u001b[49m\n\u001b[32m    675\u001b[39m \u001b[43m    \u001b[49m\u001b[43m*\u001b[49m\u001b[43m*\u001b[49m\u001b[43mkwargs\u001b[49m\u001b[43m,\u001b[49m\n\u001b[32m    676\u001b[39m \u001b[43m\u001b[49m\u001b[43m)\u001b[49m\n",
      "\u001b[36mFile \u001b[39m\u001b[32mc:\\Users\\ellen\\anaconda3\\envs\\venv-semantic-search\\Lib\\site-packages\\pandas\\io\\parquet.py:267\u001b[39m, in \u001b[36mPyArrowImpl.read\u001b[39m\u001b[34m(self, path, columns, filters, use_nullable_dtypes, dtype_backend, storage_options, filesystem, **kwargs)\u001b[39m\n\u001b[32m    264\u001b[39m \u001b[38;5;28;01mif\u001b[39;00m manager == \u001b[33m\"\u001b[39m\u001b[33marray\u001b[39m\u001b[33m\"\u001b[39m:\n\u001b[32m    265\u001b[39m     to_pandas_kwargs[\u001b[33m\"\u001b[39m\u001b[33msplit_blocks\u001b[39m\u001b[33m\"\u001b[39m] = \u001b[38;5;28;01mTrue\u001b[39;00m  \u001b[38;5;66;03m# type: ignore[assignment]\u001b[39;00m\n\u001b[32m--> \u001b[39m\u001b[32m267\u001b[39m path_or_handle, handles, filesystem = \u001b[43m_get_path_or_handle\u001b[49m\u001b[43m(\u001b[49m\n\u001b[32m    268\u001b[39m \u001b[43m    \u001b[49m\u001b[43mpath\u001b[49m\u001b[43m,\u001b[49m\n\u001b[32m    269\u001b[39m \u001b[43m    \u001b[49m\u001b[43mfilesystem\u001b[49m\u001b[43m,\u001b[49m\n\u001b[32m    270\u001b[39m \u001b[43m    \u001b[49m\u001b[43mstorage_options\u001b[49m\u001b[43m=\u001b[49m\u001b[43mstorage_options\u001b[49m\u001b[43m,\u001b[49m\n\u001b[32m    271\u001b[39m \u001b[43m    \u001b[49m\u001b[43mmode\u001b[49m\u001b[43m=\u001b[49m\u001b[33;43m\"\u001b[39;49m\u001b[33;43mrb\u001b[39;49m\u001b[33;43m\"\u001b[39;49m\u001b[43m,\u001b[49m\n\u001b[32m    272\u001b[39m \u001b[43m\u001b[49m\u001b[43m)\u001b[49m\n\u001b[32m    273\u001b[39m \u001b[38;5;28;01mtry\u001b[39;00m:\n\u001b[32m    274\u001b[39m     pa_table = \u001b[38;5;28mself\u001b[39m.api.parquet.read_table(\n\u001b[32m    275\u001b[39m         path_or_handle,\n\u001b[32m    276\u001b[39m         columns=columns,\n\u001b[32m   (...)\u001b[39m\u001b[32m    279\u001b[39m         **kwargs,\n\u001b[32m    280\u001b[39m     )\n",
      "\u001b[36mFile \u001b[39m\u001b[32mc:\\Users\\ellen\\anaconda3\\envs\\venv-semantic-search\\Lib\\site-packages\\pandas\\io\\parquet.py:140\u001b[39m, in \u001b[36m_get_path_or_handle\u001b[39m\u001b[34m(path, fs, storage_options, mode, is_dir)\u001b[39m\n\u001b[32m    130\u001b[39m handles = \u001b[38;5;28;01mNone\u001b[39;00m\n\u001b[32m    131\u001b[39m \u001b[38;5;28;01mif\u001b[39;00m (\n\u001b[32m    132\u001b[39m     \u001b[38;5;129;01mnot\u001b[39;00m fs\n\u001b[32m    133\u001b[39m     \u001b[38;5;129;01mand\u001b[39;00m \u001b[38;5;129;01mnot\u001b[39;00m is_dir\n\u001b[32m   (...)\u001b[39m\u001b[32m    138\u001b[39m     \u001b[38;5;66;03m# fsspec resources can also point to directories\u001b[39;00m\n\u001b[32m    139\u001b[39m     \u001b[38;5;66;03m# this branch is used for example when reading from non-fsspec URLs\u001b[39;00m\n\u001b[32m--> \u001b[39m\u001b[32m140\u001b[39m     handles = \u001b[43mget_handle\u001b[49m\u001b[43m(\u001b[49m\n\u001b[32m    141\u001b[39m \u001b[43m        \u001b[49m\u001b[43mpath_or_handle\u001b[49m\u001b[43m,\u001b[49m\u001b[43m \u001b[49m\u001b[43mmode\u001b[49m\u001b[43m,\u001b[49m\u001b[43m \u001b[49m\u001b[43mis_text\u001b[49m\u001b[43m=\u001b[49m\u001b[38;5;28;43;01mFalse\u001b[39;49;00m\u001b[43m,\u001b[49m\u001b[43m \u001b[49m\u001b[43mstorage_options\u001b[49m\u001b[43m=\u001b[49m\u001b[43mstorage_options\u001b[49m\n\u001b[32m    142\u001b[39m \u001b[43m    \u001b[49m\u001b[43m)\u001b[49m\n\u001b[32m    143\u001b[39m     fs = \u001b[38;5;28;01mNone\u001b[39;00m\n\u001b[32m    144\u001b[39m     path_or_handle = handles.handle\n",
      "\u001b[36mFile \u001b[39m\u001b[32mc:\\Users\\ellen\\anaconda3\\envs\\venv-semantic-search\\Lib\\site-packages\\pandas\\io\\common.py:882\u001b[39m, in \u001b[36mget_handle\u001b[39m\u001b[34m(path_or_buf, mode, encoding, compression, memory_map, is_text, errors, storage_options)\u001b[39m\n\u001b[32m    873\u001b[39m         handle = \u001b[38;5;28mopen\u001b[39m(\n\u001b[32m    874\u001b[39m             handle,\n\u001b[32m    875\u001b[39m             ioargs.mode,\n\u001b[32m   (...)\u001b[39m\u001b[32m    878\u001b[39m             newline=\u001b[33m\"\u001b[39m\u001b[33m\"\u001b[39m,\n\u001b[32m    879\u001b[39m         )\n\u001b[32m    880\u001b[39m     \u001b[38;5;28;01melse\u001b[39;00m:\n\u001b[32m    881\u001b[39m         \u001b[38;5;66;03m# Binary mode\u001b[39;00m\n\u001b[32m--> \u001b[39m\u001b[32m882\u001b[39m         handle = \u001b[38;5;28;43mopen\u001b[39;49m\u001b[43m(\u001b[49m\u001b[43mhandle\u001b[49m\u001b[43m,\u001b[49m\u001b[43m \u001b[49m\u001b[43mioargs\u001b[49m\u001b[43m.\u001b[49m\u001b[43mmode\u001b[49m\u001b[43m)\u001b[49m\n\u001b[32m    883\u001b[39m     handles.append(handle)\n\u001b[32m    885\u001b[39m \u001b[38;5;66;03m# Convert BytesIO or file objects passed with an encoding\u001b[39;00m\n",
      "\u001b[31mFileNotFoundError\u001b[39m: [Errno 2] No such file or directory: '../data/shopping_queries_dataset_examples.parquet'"
     ]
    }
   ],
   "source": [
    "df_examples = pd.read_parquet('../data/shopping_queries_dataset_examples.parquet')\n",
    "df_products = pd.read_parquet('../data/shopping_queries_dataset_products.parquet')\n",
    "df_sources = pd.read_csv(\"../data/shopping_queries_dataset_sources.csv\")"
   ]
  },
  {
   "cell_type": "code",
   "execution_count": null,
   "id": "5645cbf2",
   "metadata": {},
   "outputs": [],
   "source": [
    "# https://github.com/amazon-science/esci-data: suggested filter for task 1: Query-Product Ranking \n",
    "# Query-Product Ranking: Given a user specified query and a list of matched products, the goal of this \n",
    "# task is to rank the products so that the relevant products are ranked above the non-relevant ones.\n",
    "df_examples_products = pd.merge(\n",
    "    df_examples,\n",
    "    df_products,\n",
    "    how='left',\n",
    "    left_on=['product_locale','product_id'],\n",
    "    right_on=['product_locale', 'product_id']\n",
    ")\n",
    "\n",
    "df_task_1 = df_examples_products[df_examples_products[\"small_version\"] == 1]\n",
    "df_task_1_train = df_task_1[df_task_1[\"split\"] == \"train\"]\n",
    "df_task_1_test = df_task_1[df_task_1[\"split\"] == \"test\"]"
   ]
  },
  {
   "cell_type": "markdown",
   "id": "bdaf0c7e",
   "metadata": {},
   "source": [
    "# simple EDA"
   ]
  },
  {
   "cell_type": "code",
   "execution_count": null,
   "id": "172cc8c7",
   "metadata": {},
   "outputs": [
    {
     "data": {
      "text/html": [
       "<div>\n",
       "<style scoped>\n",
       "    .dataframe tbody tr th:only-of-type {\n",
       "        vertical-align: middle;\n",
       "    }\n",
       "\n",
       "    .dataframe tbody tr th {\n",
       "        vertical-align: top;\n",
       "    }\n",
       "\n",
       "    .dataframe thead th {\n",
       "        text-align: right;\n",
       "    }\n",
       "</style>\n",
       "<table border=\"1\" class=\"dataframe\">\n",
       "  <thead>\n",
       "    <tr style=\"text-align: right;\">\n",
       "      <th></th>\n",
       "      <th>example_id</th>\n",
       "      <th>query_id</th>\n",
       "      <th>small_version</th>\n",
       "      <th>large_version</th>\n",
       "    </tr>\n",
       "  </thead>\n",
       "  <tbody>\n",
       "    <tr>\n",
       "      <th>count</th>\n",
       "      <td>1.118011e+06</td>\n",
       "      <td>1.118011e+06</td>\n",
       "      <td>1118011.0</td>\n",
       "      <td>1118011.0</td>\n",
       "    </tr>\n",
       "    <tr>\n",
       "      <th>mean</th>\n",
       "      <td>1.376919e+06</td>\n",
       "      <td>6.963481e+04</td>\n",
       "      <td>1.0</td>\n",
       "      <td>1.0</td>\n",
       "    </tr>\n",
       "    <tr>\n",
       "      <th>std</th>\n",
       "      <td>8.195697e+05</td>\n",
       "      <td>4.190752e+04</td>\n",
       "      <td>0.0</td>\n",
       "      <td>0.0</td>\n",
       "    </tr>\n",
       "    <tr>\n",
       "      <th>min</th>\n",
       "      <td>1.600000e+01</td>\n",
       "      <td>1.000000e+00</td>\n",
       "      <td>1.0</td>\n",
       "      <td>1.0</td>\n",
       "    </tr>\n",
       "    <tr>\n",
       "      <th>25%</th>\n",
       "      <td>6.453855e+05</td>\n",
       "      <td>3.202900e+04</td>\n",
       "      <td>1.0</td>\n",
       "      <td>1.0</td>\n",
       "    </tr>\n",
       "    <tr>\n",
       "      <th>50%</th>\n",
       "      <td>1.405883e+06</td>\n",
       "      <td>7.142900e+04</td>\n",
       "      <td>1.0</td>\n",
       "      <td>1.0</td>\n",
       "    </tr>\n",
       "    <tr>\n",
       "      <th>75%</th>\n",
       "      <td>2.159588e+06</td>\n",
       "      <td>1.106680e+05</td>\n",
       "      <td>1.0</td>\n",
       "      <td>1.0</td>\n",
       "    </tr>\n",
       "    <tr>\n",
       "      <th>max</th>\n",
       "      <td>2.621255e+06</td>\n",
       "      <td>1.306490e+05</td>\n",
       "      <td>1.0</td>\n",
       "      <td>1.0</td>\n",
       "    </tr>\n",
       "  </tbody>\n",
       "</table>\n",
       "</div>"
      ],
      "text/plain": [
       "         example_id      query_id  small_version  large_version\n",
       "count  1.118011e+06  1.118011e+06      1118011.0      1118011.0\n",
       "mean   1.376919e+06  6.963481e+04            1.0            1.0\n",
       "std    8.195697e+05  4.190752e+04            0.0            0.0\n",
       "min    1.600000e+01  1.000000e+00            1.0            1.0\n",
       "25%    6.453855e+05  3.202900e+04            1.0            1.0\n",
       "50%    1.405883e+06  7.142900e+04            1.0            1.0\n",
       "75%    2.159588e+06  1.106680e+05            1.0            1.0\n",
       "max    2.621255e+06  1.306490e+05            1.0            1.0"
      ]
     },
     "execution_count": 99,
     "metadata": {},
     "output_type": "execute_result"
    }
   ],
   "source": [
    "# describe\n",
    "df_task_1.describe()"
   ]
  },
  {
   "cell_type": "code",
   "execution_count": null,
   "id": "64763136",
   "metadata": {},
   "outputs": [
    {
     "data": {
      "text/plain": [
       "product_locale\n",
       "us    601354\n",
       "jp    297883\n",
       "es    218774\n",
       "Name: count, dtype: int64"
      ]
     },
     "execution_count": 101,
     "metadata": {},
     "output_type": "execute_result"
    }
   ],
   "source": [
    "# split of queries per product location\n",
    "df_task_1.product_locale.value_counts()"
   ]
  },
  {
   "cell_type": "code",
   "execution_count": null,
   "id": "5c255a77",
   "metadata": {},
   "outputs": [
    {
     "name": "stdout",
     "output_type": "stream",
     "text": [
      "Train rows count percentage 0.6991326561187681\n",
      "Test rows count percentage 0.30086734388123193\n",
      "Train queries count percentage 0.6998757763975155\n",
      "Test queries count percentage 0.3001242236024845\n"
     ]
    }
   ],
   "source": [
    "# train-test split\n",
    "print(\"Train rows count percentage\", len(df_task_1_train)/len(df_task_1))\n",
    "print(\"Test rows count percentage\", len(df_task_1_test)/len(df_task_1))\n",
    "print(\"Train queries count percentage\", df_task_1_train['query_id'].nunique()/df_task_1['query_id'].nunique())\n",
    "print(\"Test queries count percentage\", df_task_1_test['query_id'].nunique()/df_task_1['query_id'].nunique())"
   ]
  },
  {
   "cell_type": "markdown",
   "id": "5a97002b",
   "metadata": {},
   "source": [
    "### Align values to dataset description\n",
    "Check the counts match what was shown on: https://github.com/amazon-science/esci-data\n",
    "![reduced-dataset-count-product-locale](imgs/dataset_total.png)"
   ]
  },
  {
   "cell_type": "markdown",
   "id": "62caa4cf",
   "metadata": {},
   "source": [
    "### Dataset understanding\n",
    "\n",
    "Each query_id is unique to a user search. \\\n",
    "Each judgement is a product that got manually evaluated per query_id. For e.g. 35 products were shown to the user for a given query. \\\n",
    "The depth is the count of the number of products that were evaluated per query."
   ]
  },
  {
   "cell_type": "code",
   "execution_count": null,
   "id": "5b7786d9",
   "metadata": {},
   "outputs": [
    {
     "name": "stdout",
     "output_type": "stream",
     "text": [
      "Average judgements per query 23.14722567287785\n",
      "Max judgements per query 188\n",
      "Min judgements per query 8\n"
     ]
    }
   ],
   "source": [
    "# average queries per judgement\n",
    "print(\"Average judgements per query\", df_task_1.groupby('query_id')['example_id'].nunique().mean())\n",
    "print(\"Max judgements per query\", df_task_1.groupby('query_id')['example_id'].nunique().max())\n",
    "print(\"Min judgements per query\", df_task_1.groupby('query_id')['example_id'].nunique().min())"
   ]
  },
  {
   "cell_type": "markdown",
   "id": "12c3257c",
   "metadata": {},
   "source": [
    "### ESCI understanding\n",
    "- E: Exact\n",
    "- S: Substitute\n",
    "- C: Complement\n",
    "- I: Irrelevant\n",
    "\n",
    "These provide rough ranks for the judgements per query_id."
   ]
  },
  {
   "cell_type": "code",
   "execution_count": null,
   "id": "5f944e15",
   "metadata": {},
   "outputs": [
    {
     "data": {
      "text/plain": [
       "esci_label\n",
       "C    0.053341\n",
       "E    0.437810\n",
       "I    0.163013\n",
       "S    0.345836\n",
       "dtype: float64"
      ]
     },
     "execution_count": 111,
     "metadata": {},
     "output_type": "execute_result"
    }
   ],
   "source": [
    "# calculate the average esci ratio for each query_id\n",
    "esci_counts = df_task_1.groupby(['query_id', 'esci_label']).size().unstack(fill_value=0)\n",
    "esci_ratios = esci_counts.div(esci_counts.sum(axis=1), axis=0)\n",
    "avg_esci_ratio = esci_ratios.mean(axis=0)\n",
    "\n",
    "avg_esci_ratio"
   ]
  },
  {
   "cell_type": "markdown",
   "id": "32a342f9",
   "metadata": {},
   "source": [
    "### Easy metric evaluation \n",
    "\n",
    "Using a simple cosine_similarity, calculate the ndcg between query-title using the ESCI weightings\n"
   ]
  },
  {
   "cell_type": "code",
   "execution_count": null,
   "id": "69b5399c",
   "metadata": {},
   "outputs": [
    {
     "data": {
      "text/html": [
       "<div>\n",
       "<style scoped>\n",
       "    .dataframe tbody tr th:only-of-type {\n",
       "        vertical-align: middle;\n",
       "    }\n",
       "\n",
       "    .dataframe tbody tr th {\n",
       "        vertical-align: top;\n",
       "    }\n",
       "\n",
       "    .dataframe thead th {\n",
       "        text-align: right;\n",
       "    }\n",
       "</style>\n",
       "<table border=\"1\" class=\"dataframe\">\n",
       "  <thead>\n",
       "    <tr style=\"text-align: right;\">\n",
       "      <th></th>\n",
       "      <th>example_id</th>\n",
       "      <th>query</th>\n",
       "      <th>query_id</th>\n",
       "      <th>product_id</th>\n",
       "      <th>product_locale</th>\n",
       "      <th>esci_label</th>\n",
       "      <th>small_version</th>\n",
       "      <th>large_version</th>\n",
       "      <th>split</th>\n",
       "      <th>product_title</th>\n",
       "      <th>product_description</th>\n",
       "      <th>product_bullet_point</th>\n",
       "      <th>product_brand</th>\n",
       "      <th>product_color</th>\n",
       "    </tr>\n",
       "  </thead>\n",
       "  <tbody>\n",
       "    <tr>\n",
       "      <th>32</th>\n",
       "      <td>32</td>\n",
       "      <td>!qscreen fence without holes</td>\n",
       "      <td>2</td>\n",
       "      <td>B07D7TBSGH</td>\n",
       "      <td>us</td>\n",
       "      <td>I</td>\n",
       "      <td>1</td>\n",
       "      <td>1</td>\n",
       "      <td>test</td>\n",
       "      <td>FOTMISHU 6Pcs Greenhouse Hoops Rust-Free Grow ...</td>\n",
       "      <td>&lt;p&gt;&lt;b&gt;Description:&lt;/b&gt;&lt;br&gt;&lt;b&gt;Material:&lt;/b&gt;plas...</td>\n",
       "      <td>►Material -- High-quality plastic coated steel...</td>\n",
       "      <td>FOTMISHU</td>\n",
       "      <td>green</td>\n",
       "    </tr>\n",
       "    <tr>\n",
       "      <th>33</th>\n",
       "      <td>33</td>\n",
       "      <td>!qscreen fence without holes</td>\n",
       "      <td>2</td>\n",
       "      <td>B07DHT2WZK</td>\n",
       "      <td>us</td>\n",
       "      <td>I</td>\n",
       "      <td>1</td>\n",
       "      <td>1</td>\n",
       "      <td>test</td>\n",
       "      <td>Zippity Outdoor Products ZP19028 Unassembled M...</td>\n",
       "      <td>None</td>\n",
       "      <td>Designed for the Madison Vinyl Fence (item ZP1...</td>\n",
       "      <td>Zippity Outdoor Products</td>\n",
       "      <td>White</td>\n",
       "    </tr>\n",
       "    <tr>\n",
       "      <th>34</th>\n",
       "      <td>34</td>\n",
       "      <td>!qscreen fence without holes</td>\n",
       "      <td>2</td>\n",
       "      <td>B07DHX8YH2</td>\n",
       "      <td>us</td>\n",
       "      <td>E</td>\n",
       "      <td>1</td>\n",
       "      <td>1</td>\n",
       "      <td>test</td>\n",
       "      <td>Zippity Outdoor Products ZP19026 Lightweight P...</td>\n",
       "      <td>None</td>\n",
       "      <td>Designed as a portable fence for temporary eve...</td>\n",
       "      <td>Zippity Outdoor Products</td>\n",
       "      <td>White</td>\n",
       "    </tr>\n",
       "    <tr>\n",
       "      <th>35</th>\n",
       "      <td>35</td>\n",
       "      <td>!qscreen fence without holes</td>\n",
       "      <td>2</td>\n",
       "      <td>B07DS1YCRZ</td>\n",
       "      <td>us</td>\n",
       "      <td>S</td>\n",
       "      <td>1</td>\n",
       "      <td>1</td>\n",
       "      <td>test</td>\n",
       "      <td>ColourTree 4' x 50' Green Fence Privacy Screen...</td>\n",
       "      <td>None</td>\n",
       "      <td>★【Virgin, UV Stabilized Compounds &amp; Thick Mate...</td>\n",
       "      <td>ColourTree</td>\n",
       "      <td>Green 2nd Generation</td>\n",
       "    </tr>\n",
       "    <tr>\n",
       "      <th>36</th>\n",
       "      <td>36</td>\n",
       "      <td>!qscreen fence without holes</td>\n",
       "      <td>2</td>\n",
       "      <td>B07DS3J3MB</td>\n",
       "      <td>us</td>\n",
       "      <td>S</td>\n",
       "      <td>1</td>\n",
       "      <td>1</td>\n",
       "      <td>test</td>\n",
       "      <td>ColourTree 6' x 50' Black Fence Privacy Screen...</td>\n",
       "      <td>None</td>\n",
       "      <td>★【Virgin, UV Stabilized Compounds &amp; Thick Mate...</td>\n",
       "      <td>ColourTree</td>\n",
       "      <td>Black 2nd Generation</td>\n",
       "    </tr>\n",
       "  </tbody>\n",
       "</table>\n",
       "</div>"
      ],
      "text/plain": [
       "    example_id                         query  query_id  product_id  \\\n",
       "32          32  !qscreen fence without holes         2  B07D7TBSGH   \n",
       "33          33  !qscreen fence without holes         2  B07DHT2WZK   \n",
       "34          34  !qscreen fence without holes         2  B07DHX8YH2   \n",
       "35          35  !qscreen fence without holes         2  B07DS1YCRZ   \n",
       "36          36  !qscreen fence without holes         2  B07DS3J3MB   \n",
       "\n",
       "   product_locale esci_label  small_version  large_version split  \\\n",
       "32             us          I              1              1  test   \n",
       "33             us          I              1              1  test   \n",
       "34             us          E              1              1  test   \n",
       "35             us          S              1              1  test   \n",
       "36             us          S              1              1  test   \n",
       "\n",
       "                                        product_title  \\\n",
       "32  FOTMISHU 6Pcs Greenhouse Hoops Rust-Free Grow ...   \n",
       "33  Zippity Outdoor Products ZP19028 Unassembled M...   \n",
       "34  Zippity Outdoor Products ZP19026 Lightweight P...   \n",
       "35  ColourTree 4' x 50' Green Fence Privacy Screen...   \n",
       "36  ColourTree 6' x 50' Black Fence Privacy Screen...   \n",
       "\n",
       "                                  product_description  \\\n",
       "32  <p><b>Description:</b><br><b>Material:</b>plas...   \n",
       "33                                               None   \n",
       "34                                               None   \n",
       "35                                               None   \n",
       "36                                               None   \n",
       "\n",
       "                                 product_bullet_point  \\\n",
       "32  ►Material -- High-quality plastic coated steel...   \n",
       "33  Designed for the Madison Vinyl Fence (item ZP1...   \n",
       "34  Designed as a portable fence for temporary eve...   \n",
       "35  ★【Virgin, UV Stabilized Compounds & Thick Mate...   \n",
       "36  ★【Virgin, UV Stabilized Compounds & Thick Mate...   \n",
       "\n",
       "               product_brand         product_color  \n",
       "32                  FOTMISHU                 green  \n",
       "33  Zippity Outdoor Products                 White  \n",
       "34  Zippity Outdoor Products                 White  \n",
       "35                ColourTree  Green 2nd Generation  \n",
       "36                ColourTree  Black 2nd Generation  "
      ]
     },
     "execution_count": 129,
     "metadata": {},
     "output_type": "execute_result"
    }
   ],
   "source": [
    "one_query.head()"
   ]
  },
  {
   "cell_type": "code",
   "execution_count": 151,
   "id": "07bfde24",
   "metadata": {},
   "outputs": [
    {
     "name": "stderr",
     "output_type": "stream",
     "text": [
      "C:\\Users\\ellen\\AppData\\Local\\Temp\\ipykernel_26464\\1639211472.py:11: SettingWithCopyWarning:\n",
      "\n",
      "\n",
      "A value is trying to be set on a copy of a slice from a DataFrame.\n",
      "Try using .loc[row_indexer,col_indexer] = value instead\n",
      "\n",
      "See the caveats in the documentation: https://pandas.pydata.org/pandas-docs/stable/user_guide/indexing.html#returning-a-view-versus-a-copy\n",
      "\n",
      "C:\\Users\\ellen\\AppData\\Local\\Temp\\ipykernel_26464\\1639211472.py:24: SettingWithCopyWarning:\n",
      "\n",
      "\n",
      "A value is trying to be set on a copy of a slice from a DataFrame.\n",
      "Try using .loc[row_indexer,col_indexer] = value instead\n",
      "\n",
      "See the caveats in the documentation: https://pandas.pydata.org/pandas-docs/stable/user_guide/indexing.html#returning-a-view-versus-a-copy\n",
      "\n"
     ]
    },
    {
     "data": {
      "text/plain": [
       "np.float64(0.3881064391080875)"
      ]
     },
     "execution_count": 151,
     "metadata": {},
     "output_type": "execute_result"
    }
   ],
   "source": [
    "one_query = df_task_1[df_task_1['query_id'] == 2]\n",
    "\n",
    "# calculate cosine similarity between pairs of query-title\n",
    "vectorizer = TfidfVectorizer()\n",
    "\n",
    "def calculate_cosine_similarity(query, title):\n",
    "    vectors = vectorizer.fit_transform([query, title])\n",
    "    cosine_sim = cosine_similarity(vectors[0], vectors[1])\n",
    "    return cosine_sim.item()\n",
    "\n",
    "one_query['cosine_similarity'] = one_query.apply(lambda row: calculate_cosine_similarity(\n",
    "    row['query'], \n",
    "    row['product_title']), \n",
    "    axis=1)\n",
    "\n",
    "# apply esci mapping to esci label\n",
    "esci_weighting = {\n",
    "    'E': 3,\n",
    "    'S': 2,\n",
    "    'C': 1,\n",
    "    'I': 0\n",
    "}\n",
    "\n",
    "one_query['relevance'] = one_query['esci_label'].map(esci_weighting)\n",
    "\n",
    "# use ranx system to calculate ndcg\n",
    "qrels_dict = {}\n",
    "run_dict = {}\n",
    "\n",
    "for query_id, group in one_query.groupby(\"query_id\"):\n",
    "    query_id_str = str(query_id)\n",
    "    qrels_dict[query_id_str] = {str(example): int(relevance) for example, relevance in zip(group[\"example_id\"], group[\"relevance\"])}\n",
    "    run_dict[query_id_str] = {str(example): float(score) for example, score in zip(group[\"example_id\"], group[\"cosine_similarity\"])}\n",
    "\n",
    "qrels = Qrels(qrels_dict)\n",
    "run = Run(run_dict)\n",
    "\n",
    "results = evaluate(qrels, run, metrics=\"ndcg@10\")\n",
    "results"
   ]
  },
  {
   "cell_type": "markdown",
   "id": "c492d55d",
   "metadata": {},
   "source": [
    "### Model evaluation\n",
    "Amazon trained and finetuned a BERT model to evaluate on the amazon-esci dataset. They use this dataset for three use cases - query product ranking, multiclass product classification and product substitute identification. For their first use case, they fine tuned a MS MARCO Cross-Encoder for the us locale. For their es and jp locales, they finetuned a multilingual MPNet. \n",
    "\n",
    "![dataset-benchmark](imgs/amazon_finetune_results.png)"
   ]
  },
  {
   "cell_type": "code",
   "execution_count": null,
   "id": "7b163f67",
   "metadata": {},
   "outputs": [],
   "source": []
  }
 ],
 "metadata": {
  "language_info": {
   "name": "python"
  }
 },
 "nbformat": 4,
 "nbformat_minor": 5
}
