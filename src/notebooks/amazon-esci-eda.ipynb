{
 "cells": [
  {
   "cell_type": "markdown",
   "id": "d88bb187",
   "metadata": {},
   "source": [
    "# Amazon ESCI dataset EDA\n",
    "\n",
    "The goal of this notebook is to identify how this dataset was created, any interesting features, benchmarks, and metrics used to evaluate it. Also, some simple EDA was performed to see distribution of features"
   ]
  },
  {
   "cell_type": "code",
   "execution_count": 163,
   "id": "74c90587",
   "metadata": {},
   "outputs": [],
   "source": [
    "import plotly.express as px\n",
    "import plotly.graph_objects as go\n",
    "import pandas as pd\n",
    "from ranx import Qrels, Run, evaluate\n",
    "from sklearn.feature_extraction.text import TfidfVectorizer\n",
    "from sklearn.metrics.pairwise import cosine_similarity"
   ]
  },
  {
   "cell_type": "code",
   "execution_count": 164,
   "id": "b813f527",
   "metadata": {},
   "outputs": [],
   "source": [
    "df_examples = pd.read_parquet('../data/shopping_queries_dataset_examples.parquet')\n",
    "df_products = pd.read_parquet('../data/shopping_queries_dataset_products.parquet')\n",
    "df_sources = pd.read_csv(\"../data/shopping_queries_dataset_sources.csv\")"
   ]
  },
  {
   "cell_type": "code",
   "execution_count": 165,
   "id": "5645cbf2",
   "metadata": {},
   "outputs": [],
   "source": [
    "# https://github.com/amazon-science/esci-data: suggested filter for task 1: Query-Product Ranking \n",
    "# Query-Product Ranking: Given a user specified query and a list of matched products, the goal of this \n",
    "# task is to rank the products so that the relevant products are ranked above the non-relevant ones.\n",
    "df_examples_products = pd.merge(\n",
    "    df_examples,\n",
    "    df_products,\n",
    "    how='left',\n",
    "    left_on=['product_locale','product_id'],\n",
    "    right_on=['product_locale', 'product_id']\n",
    ")\n",
    "\n",
    "df_task_1 = df_examples_products[df_examples_products[\"small_version\"] == 1]\n",
    "df_task_1_train = df_task_1[df_task_1[\"split\"] == \"train\"]\n",
    "df_task_1_test = df_task_1[df_task_1[\"split\"] == \"test\"]"
   ]
  },
  {
   "cell_type": "markdown",
   "id": "bdaf0c7e",
   "metadata": {},
   "source": [
    "# simple EDA"
   ]
  },
  {
   "cell_type": "code",
   "execution_count": 166,
   "id": "172cc8c7",
   "metadata": {},
   "outputs": [
    {
     "data": {
      "text/html": [
       "<div>\n",
       "<style scoped>\n",
       "    .dataframe tbody tr th:only-of-type {\n",
       "        vertical-align: middle;\n",
       "    }\n",
       "\n",
       "    .dataframe tbody tr th {\n",
       "        vertical-align: top;\n",
       "    }\n",
       "\n",
       "    .dataframe thead th {\n",
       "        text-align: right;\n",
       "    }\n",
       "</style>\n",
       "<table border=\"1\" class=\"dataframe\">\n",
       "  <thead>\n",
       "    <tr style=\"text-align: right;\">\n",
       "      <th></th>\n",
       "      <th>example_id</th>\n",
       "      <th>query_id</th>\n",
       "      <th>small_version</th>\n",
       "      <th>large_version</th>\n",
       "    </tr>\n",
       "  </thead>\n",
       "  <tbody>\n",
       "    <tr>\n",
       "      <th>count</th>\n",
       "      <td>1.118011e+06</td>\n",
       "      <td>1.118011e+06</td>\n",
       "      <td>1118011.0</td>\n",
       "      <td>1118011.0</td>\n",
       "    </tr>\n",
       "    <tr>\n",
       "      <th>mean</th>\n",
       "      <td>1.376919e+06</td>\n",
       "      <td>6.963481e+04</td>\n",
       "      <td>1.0</td>\n",
       "      <td>1.0</td>\n",
       "    </tr>\n",
       "    <tr>\n",
       "      <th>std</th>\n",
       "      <td>8.195697e+05</td>\n",
       "      <td>4.190752e+04</td>\n",
       "      <td>0.0</td>\n",
       "      <td>0.0</td>\n",
       "    </tr>\n",
       "    <tr>\n",
       "      <th>min</th>\n",
       "      <td>1.600000e+01</td>\n",
       "      <td>1.000000e+00</td>\n",
       "      <td>1.0</td>\n",
       "      <td>1.0</td>\n",
       "    </tr>\n",
       "    <tr>\n",
       "      <th>25%</th>\n",
       "      <td>6.453855e+05</td>\n",
       "      <td>3.202900e+04</td>\n",
       "      <td>1.0</td>\n",
       "      <td>1.0</td>\n",
       "    </tr>\n",
       "    <tr>\n",
       "      <th>50%</th>\n",
       "      <td>1.405883e+06</td>\n",
       "      <td>7.142900e+04</td>\n",
       "      <td>1.0</td>\n",
       "      <td>1.0</td>\n",
       "    </tr>\n",
       "    <tr>\n",
       "      <th>75%</th>\n",
       "      <td>2.159588e+06</td>\n",
       "      <td>1.106680e+05</td>\n",
       "      <td>1.0</td>\n",
       "      <td>1.0</td>\n",
       "    </tr>\n",
       "    <tr>\n",
       "      <th>max</th>\n",
       "      <td>2.621255e+06</td>\n",
       "      <td>1.306490e+05</td>\n",
       "      <td>1.0</td>\n",
       "      <td>1.0</td>\n",
       "    </tr>\n",
       "  </tbody>\n",
       "</table>\n",
       "</div>"
      ],
      "text/plain": [
       "         example_id      query_id  small_version  large_version\n",
       "count  1.118011e+06  1.118011e+06      1118011.0      1118011.0\n",
       "mean   1.376919e+06  6.963481e+04            1.0            1.0\n",
       "std    8.195697e+05  4.190752e+04            0.0            0.0\n",
       "min    1.600000e+01  1.000000e+00            1.0            1.0\n",
       "25%    6.453855e+05  3.202900e+04            1.0            1.0\n",
       "50%    1.405883e+06  7.142900e+04            1.0            1.0\n",
       "75%    2.159588e+06  1.106680e+05            1.0            1.0\n",
       "max    2.621255e+06  1.306490e+05            1.0            1.0"
      ]
     },
     "execution_count": 166,
     "metadata": {},
     "output_type": "execute_result"
    }
   ],
   "source": [
    "# describe\n",
    "df_task_1.describe()"
   ]
  },
  {
   "cell_type": "code",
   "execution_count": 167,
   "id": "64763136",
   "metadata": {},
   "outputs": [
    {
     "data": {
      "text/plain": [
       "product_locale\n",
       "us    601354\n",
       "jp    297883\n",
       "es    218774\n",
       "Name: count, dtype: int64"
      ]
     },
     "execution_count": 167,
     "metadata": {},
     "output_type": "execute_result"
    }
   ],
   "source": [
    "# split of queries per product location\n",
    "df_task_1.product_locale.value_counts()"
   ]
  },
  {
   "cell_type": "code",
   "execution_count": 168,
   "id": "5c255a77",
   "metadata": {},
   "outputs": [
    {
     "name": "stdout",
     "output_type": "stream",
     "text": [
      "Train rows count percentage 0.6991326561187681\n",
      "Test rows count percentage 0.30086734388123193\n",
      "Train queries count percentage 0.6998757763975155\n",
      "Test queries count percentage 0.3001242236024845\n"
     ]
    }
   ],
   "source": [
    "# train-test split\n",
    "print(\"Train rows count percentage\", len(df_task_1_train)/len(df_task_1))\n",
    "print(\"Test rows count percentage\", len(df_task_1_test)/len(df_task_1))\n",
    "print(\"Train queries count percentage\", df_task_1_train['query_id'].nunique()/df_task_1['query_id'].nunique())\n",
    "print(\"Test queries count percentage\", df_task_1_test['query_id'].nunique()/df_task_1['query_id'].nunique())"
   ]
  },
  {
   "cell_type": "markdown",
   "id": "5a97002b",
   "metadata": {},
   "source": [
    "### Align values to dataset description\n",
    "Check the counts match what was shown on: https://github.com/amazon-science/esci-data\n",
    "![reduced-dataset-count-product-locale](imgs/dataset_total.png)"
   ]
  },
  {
   "cell_type": "markdown",
   "id": "62caa4cf",
   "metadata": {},
   "source": [
    "### Dataset understanding\n",
    "\n",
    "Each query_id is unique to a user search. \\\n",
    "Each judgement is a product that got manually evaluated per query_id. For e.g. 35 products were shown to the user for a given query. \\\n",
    "The depth is the count of the number of products that were evaluated per query."
   ]
  },
  {
   "cell_type": "code",
   "execution_count": 169,
   "id": "5b7786d9",
   "metadata": {},
   "outputs": [
    {
     "name": "stdout",
     "output_type": "stream",
     "text": [
      "Average judgements per query 23.14722567287785\n",
      "Max judgements per query 188\n",
      "Min judgements per query 8\n"
     ]
    }
   ],
   "source": [
    "# average queries per judgement\n",
    "print(\"Average judgements per query\", df_task_1.groupby('query_id')['example_id'].nunique().mean())\n",
    "print(\"Max judgements per query\", df_task_1.groupby('query_id')['example_id'].nunique().max())\n",
    "print(\"Min judgements per query\", df_task_1.groupby('query_id')['example_id'].nunique().min())"
   ]
  },
  {
   "cell_type": "markdown",
   "id": "8fe3e05a",
   "metadata": {},
   "source": [
    "### Data cleaning\n",
    "Identify duplicate query-title pairs, potential bad labels, bad queries, really short queries and products in the training dataset."
   ]
  },
  {
   "cell_type": "code",
   "execution_count": 173,
   "id": "b2f924f0",
   "metadata": {},
   "outputs": [
    {
     "data": {
      "text/html": [
       "<div>\n",
       "<style scoped>\n",
       "    .dataframe tbody tr th:only-of-type {\n",
       "        vertical-align: middle;\n",
       "    }\n",
       "\n",
       "    .dataframe tbody tr th {\n",
       "        vertical-align: top;\n",
       "    }\n",
       "\n",
       "    .dataframe thead th {\n",
       "        text-align: right;\n",
       "    }\n",
       "</style>\n",
       "<table border=\"1\" class=\"dataframe\">\n",
       "  <thead>\n",
       "    <tr style=\"text-align: right;\">\n",
       "      <th></th>\n",
       "      <th>example_id</th>\n",
       "      <th>query</th>\n",
       "      <th>query_id</th>\n",
       "      <th>product_id</th>\n",
       "      <th>product_locale</th>\n",
       "      <th>esci_label</th>\n",
       "      <th>small_version</th>\n",
       "      <th>large_version</th>\n",
       "      <th>split</th>\n",
       "      <th>product_title</th>\n",
       "      <th>product_description</th>\n",
       "      <th>product_bullet_point</th>\n",
       "      <th>product_brand</th>\n",
       "      <th>product_color</th>\n",
       "      <th>query_length</th>\n",
       "    </tr>\n",
       "  </thead>\n",
       "  <tbody>\n",
       "    <tr>\n",
       "      <th>2153</th>\n",
       "      <td>2153</td>\n",
       "      <td>$10 magnetic eyelashes without eyeliner</td>\n",
       "      <td>70</td>\n",
       "      <td>B08MD4LTJ2</td>\n",
       "      <td>us</td>\n",
       "      <td>S</td>\n",
       "      <td>1</td>\n",
       "      <td>1</td>\n",
       "      <td>train</td>\n",
       "      <td>EARLLER 10 Pairs Magnetic Eyelashes with Eyeli...</td>\n",
       "      <td>None</td>\n",
       "      <td>Magnetic Eyeliner : Rejecting glue, EARLLER ma...</td>\n",
       "      <td>Earller</td>\n",
       "      <td>None</td>\n",
       "      <td>5</td>\n",
       "    </tr>\n",
       "    <tr>\n",
       "      <th>5693</th>\n",
       "      <td>5693</td>\n",
       "      <td>(éxito y productividad sin límites</td>\n",
       "      <td>189</td>\n",
       "      <td>1072076810</td>\n",
       "      <td>es</td>\n",
       "      <td>S</td>\n",
       "      <td>1</td>\n",
       "      <td>1</td>\n",
       "      <td>train</td>\n",
       "      <td>Gestión del tiempo: Productividad personal sin...</td>\n",
       "      <td>None</td>\n",
       "      <td>None</td>\n",
       "      <td>None</td>\n",
       "      <td>None</td>\n",
       "      <td>5</td>\n",
       "    </tr>\n",
       "    <tr>\n",
       "      <th>6040</th>\n",
       "      <td>6040</td>\n",
       "      <td>*i'm gaming do not disturb*shirt</td>\n",
       "      <td>200</td>\n",
       "      <td>B07XRYSHBG</td>\n",
       "      <td>us</td>\n",
       "      <td>E</td>\n",
       "      <td>1</td>\n",
       "      <td>1</td>\n",
       "      <td>train</td>\n",
       "      <td>Do Not Disturb I'm Gaming T-Shirt Video Gamer ...</td>\n",
       "      <td>None</td>\n",
       "      <td>Perfect Birthday Gift Idea for Men / Women / K...</td>\n",
       "      <td>Do Not Disturb I'm Gaming Shirts</td>\n",
       "      <td>Black</td>\n",
       "      <td>5</td>\n",
       "    </tr>\n",
       "    <tr>\n",
       "      <th>6572</th>\n",
       "      <td>6572</td>\n",
       "      <td>+crunchy peanuts not butter</td>\n",
       "      <td>217</td>\n",
       "      <td>B0046HNS8Y</td>\n",
       "      <td>us</td>\n",
       "      <td>I</td>\n",
       "      <td>1</td>\n",
       "      <td>1</td>\n",
       "      <td>train</td>\n",
       "      <td>Santa Cruz Organic Crunchy Dark Roasted Peanut...</td>\n",
       "      <td>None</td>\n",
       "      <td>Crunchy peanut butter made from certified USDA...</td>\n",
       "      <td>Santa Cruz ORGANIC</td>\n",
       "      <td>None</td>\n",
       "      <td>4</td>\n",
       "    </tr>\n",
       "    <tr>\n",
       "      <th>7453</th>\n",
       "      <td>7453</td>\n",
       "      <td>, máquina de depilación sin dolor</td>\n",
       "      <td>246</td>\n",
       "      <td>B089ND86RN</td>\n",
       "      <td>es</td>\n",
       "      <td>E</td>\n",
       "      <td>1</td>\n",
       "      <td>1</td>\n",
       "      <td>train</td>\n",
       "      <td>Depiladora de Luz Pulsada para Mujeres Maquina...</td>\n",
       "      <td>None</td>\n",
       "      <td>【Depilación Permanente Efectiva】El depiladora ...</td>\n",
       "      <td>eme</td>\n",
       "      <td>None</td>\n",
       "      <td>6</td>\n",
       "    </tr>\n",
       "    <tr>\n",
       "      <th>...</th>\n",
       "      <td>...</td>\n",
       "      <td>...</td>\n",
       "      <td>...</td>\n",
       "      <td>...</td>\n",
       "      <td>...</td>\n",
       "      <td>...</td>\n",
       "      <td>...</td>\n",
       "      <td>...</td>\n",
       "      <td>...</td>\n",
       "      <td>...</td>\n",
       "      <td>...</td>\n",
       "      <td>...</td>\n",
       "      <td>...</td>\n",
       "      <td>...</td>\n",
       "      <td>...</td>\n",
       "    </tr>\n",
       "    <tr>\n",
       "      <th>2620848</th>\n",
       "      <td>2620848</td>\n",
       "      <td>ｚａｒｄ 負けないで</td>\n",
       "      <td>130631</td>\n",
       "      <td>B009XH9QC4</td>\n",
       "      <td>jp</td>\n",
       "      <td>S</td>\n",
       "      <td>1</td>\n",
       "      <td>1</td>\n",
       "      <td>train</td>\n",
       "      <td>負けないで</td>\n",
       "      <td>None</td>\n",
       "      <td>None</td>\n",
       "      <td>None</td>\n",
       "      <td>None</td>\n",
       "      <td>2</td>\n",
       "    </tr>\n",
       "    <tr>\n",
       "      <th>2620860</th>\n",
       "      <td>2620860</td>\n",
       "      <td>ｚａｒｄ 負けないで</td>\n",
       "      <td>130631</td>\n",
       "      <td>B089B2RKKG</td>\n",
       "      <td>jp</td>\n",
       "      <td>C</td>\n",
       "      <td>1</td>\n",
       "      <td>1</td>\n",
       "      <td>train</td>\n",
       "      <td>負けないで(オリジナルアーティスト:ZARD)[ガイドメロディ無しカラオケ]</td>\n",
       "      <td>None</td>\n",
       "      <td>None</td>\n",
       "      <td>None</td>\n",
       "      <td>None</td>\n",
       "      <td>2</td>\n",
       "    </tr>\n",
       "    <tr>\n",
       "      <th>2620875</th>\n",
       "      <td>2620875</td>\n",
       "      <td>ｚａｒｄ 負けないで</td>\n",
       "      <td>130631</td>\n",
       "      <td>B00005F59G</td>\n",
       "      <td>jp</td>\n",
       "      <td>E</td>\n",
       "      <td>1</td>\n",
       "      <td>1</td>\n",
       "      <td>train</td>\n",
       "      <td>負けないで</td>\n",
       "      <td>None</td>\n",
       "      <td>None</td>\n",
       "      <td>None</td>\n",
       "      <td>None</td>\n",
       "      <td>2</td>\n",
       "    </tr>\n",
       "    <tr>\n",
       "      <th>2620934</th>\n",
       "      <td>2620934</td>\n",
       "      <td>ｺｽﾓｽ</td>\n",
       "      <td>130635</td>\n",
       "      <td>B0784P282F</td>\n",
       "      <td>jp</td>\n",
       "      <td>E</td>\n",
       "      <td>1</td>\n",
       "      <td>1</td>\n",
       "      <td>train</td>\n",
       "      <td>HGBF ガンダムビルドファイターズ バトローグ ビルドストライクギャラクシーコスモス 1/...</td>\n",
       "      <td>None</td>\n",
       "      <td>(C)創通・サンライズ\\n&lt;b&gt;対象年齢 :&lt;/b&gt;8才以上</td>\n",
       "      <td>バンダイ(BANDAI)</td>\n",
       "      <td>None</td>\n",
       "      <td>1</td>\n",
       "    </tr>\n",
       "    <tr>\n",
       "      <th>2621019</th>\n",
       "      <td>2621019</td>\n",
       "      <td>ｽﾏﾎﾘﾝｸﾞ</td>\n",
       "      <td>130638</td>\n",
       "      <td>B08NZPNV6F</td>\n",
       "      <td>jp</td>\n",
       "      <td>E</td>\n",
       "      <td>1</td>\n",
       "      <td>1</td>\n",
       "      <td>train</td>\n",
       "      <td>スマホリング 【MindSky2021年業界初製品】、縦置きできるな新バンカーリング、折りた...</td>\n",
       "      <td>【MindSkyスマホリング新製品】 （スマホリング+スマホスタンド+車載ホルダー）機能スリ...</td>\n",
       "      <td>【MindSkyスマホリング新製品】 （スマホリング+スマホスタンド+車載ホルダー）機能スリ...</td>\n",
       "      <td>Mindsky</td>\n",
       "      <td>グレー</td>\n",
       "      <td>1</td>\n",
       "    </tr>\n",
       "  </tbody>\n",
       "</table>\n",
       "<p>3939 rows × 15 columns</p>\n",
       "</div>"
      ],
      "text/plain": [
       "         example_id                                    query  query_id  \\\n",
       "2153           2153  $10 magnetic eyelashes without eyeliner        70   \n",
       "5693           5693       (éxito y productividad sin límites       189   \n",
       "6040           6040         *i'm gaming do not disturb*shirt       200   \n",
       "6572           6572              +crunchy peanuts not butter       217   \n",
       "7453           7453        , máquina de depilación sin dolor       246   \n",
       "...             ...                                      ...       ...   \n",
       "2620848     2620848                               ｚａｒｄ 負けないで    130631   \n",
       "2620860     2620860                               ｚａｒｄ 負けないで    130631   \n",
       "2620875     2620875                               ｚａｒｄ 負けないで    130631   \n",
       "2620934     2620934                                     ｺｽﾓｽ    130635   \n",
       "2621019     2621019                                  ｽﾏﾎﾘﾝｸﾞ    130638   \n",
       "\n",
       "         product_id product_locale esci_label  small_version  large_version  \\\n",
       "2153     B08MD4LTJ2             us          S              1              1   \n",
       "5693     1072076810             es          S              1              1   \n",
       "6040     B07XRYSHBG             us          E              1              1   \n",
       "6572     B0046HNS8Y             us          I              1              1   \n",
       "7453     B089ND86RN             es          E              1              1   \n",
       "...             ...            ...        ...            ...            ...   \n",
       "2620848  B009XH9QC4             jp          S              1              1   \n",
       "2620860  B089B2RKKG             jp          C              1              1   \n",
       "2620875  B00005F59G             jp          E              1              1   \n",
       "2620934  B0784P282F             jp          E              1              1   \n",
       "2621019  B08NZPNV6F             jp          E              1              1   \n",
       "\n",
       "         split                                      product_title  \\\n",
       "2153     train  EARLLER 10 Pairs Magnetic Eyelashes with Eyeli...   \n",
       "5693     train  Gestión del tiempo: Productividad personal sin...   \n",
       "6040     train  Do Not Disturb I'm Gaming T-Shirt Video Gamer ...   \n",
       "6572     train  Santa Cruz Organic Crunchy Dark Roasted Peanut...   \n",
       "7453     train  Depiladora de Luz Pulsada para Mujeres Maquina...   \n",
       "...        ...                                                ...   \n",
       "2620848  train                                              負けないで   \n",
       "2620860  train             負けないで(オリジナルアーティスト:ZARD)[ガイドメロディ無しカラオケ]   \n",
       "2620875  train                                              負けないで   \n",
       "2620934  train  HGBF ガンダムビルドファイターズ バトローグ ビルドストライクギャラクシーコスモス 1/...   \n",
       "2621019  train  スマホリング 【MindSky2021年業界初製品】、縦置きできるな新バンカーリング、折りた...   \n",
       "\n",
       "                                       product_description  \\\n",
       "2153                                                  None   \n",
       "5693                                                  None   \n",
       "6040                                                  None   \n",
       "6572                                                  None   \n",
       "7453                                                  None   \n",
       "...                                                    ...   \n",
       "2620848                                               None   \n",
       "2620860                                               None   \n",
       "2620875                                               None   \n",
       "2620934                                               None   \n",
       "2621019  【MindSkyスマホリング新製品】 （スマホリング+スマホスタンド+車載ホルダー）機能スリ...   \n",
       "\n",
       "                                      product_bullet_point  \\\n",
       "2153     Magnetic Eyeliner : Rejecting glue, EARLLER ma...   \n",
       "5693                                                  None   \n",
       "6040     Perfect Birthday Gift Idea for Men / Women / K...   \n",
       "6572     Crunchy peanut butter made from certified USDA...   \n",
       "7453     【Depilación Permanente Efectiva】El depiladora ...   \n",
       "...                                                    ...   \n",
       "2620848                                               None   \n",
       "2620860                                               None   \n",
       "2620875                                               None   \n",
       "2620934                     (C)創通・サンライズ\\n<b>対象年齢 :</b>8才以上   \n",
       "2621019  【MindSkyスマホリング新製品】 （スマホリング+スマホスタンド+車載ホルダー）機能スリ...   \n",
       "\n",
       "                            product_brand product_color  query_length  \n",
       "2153                              Earller          None             5  \n",
       "5693                                 None          None             5  \n",
       "6040     Do Not Disturb I'm Gaming Shirts         Black             5  \n",
       "6572                   Santa Cruz ORGANIC          None             4  \n",
       "7453                                  eme          None             6  \n",
       "...                                   ...           ...           ...  \n",
       "2620848                              None          None             2  \n",
       "2620860                              None          None             2  \n",
       "2620875                              None          None             2  \n",
       "2620934                      バンダイ(BANDAI)          None             1  \n",
       "2621019                           Mindsky           グレー             1  \n",
       "\n",
       "[3939 rows x 15 columns]"
      ]
     },
     "execution_count": 173,
     "metadata": {},
     "output_type": "execute_result"
    }
   ],
   "source": [
    "duplicates = df_task_1_train[df_task_1_train.duplicated(subset=[\"query\", \"product_title\"])]\n",
    "duplicates"
   ]
  },
  {
   "cell_type": "code",
   "execution_count": 174,
   "id": "7e649092",
   "metadata": {},
   "outputs": [
    {
     "name": "stdout",
     "output_type": "stream",
     "text": [
      "example_id              False\n",
      "query                   False\n",
      "query_id                False\n",
      "product_id              False\n",
      "product_locale          False\n",
      "esci_label              False\n",
      "small_version           False\n",
      "large_version           False\n",
      "split                   False\n",
      "product_title           False\n",
      "product_description      True\n",
      "product_bullet_point     True\n",
      "product_brand            True\n",
      "product_color            True\n",
      "dtype: bool\n"
     ]
    }
   ],
   "source": [
    "# Check if any values in query, title, description are nan\n",
    "print(df_task_1.isna().any())\n"
   ]
  },
  {
   "cell_type": "code",
   "execution_count": 183,
   "id": "8d2a5aa5",
   "metadata": {},
   "outputs": [
    {
     "name": "stdout",
     "output_type": "stream",
     "text": [
      "51.75% of product descriptions are None\n"
     ]
    }
   ],
   "source": [
    "nan_desc = df_task_1[df_task_1['product_description'].isna()]\n",
    "product_nan = len(nan_desc['product_description']) / len(df_task_1)\n",
    "perc_product_nan = product_nan*100\n",
    "print(f\"{perc_product_nan:.2f}% of product descriptions are None\")"
   ]
  },
  {
   "cell_type": "code",
   "execution_count": 171,
   "id": "ff6f20c6",
   "metadata": {},
   "outputs": [
    {
     "name": "stderr",
     "output_type": "stream",
     "text": [
      "C:\\Users\\ellen\\AppData\\Local\\Temp\\ipykernel_26464\\2806754784.py:2: SettingWithCopyWarning:\n",
      "\n",
      "\n",
      "A value is trying to be set on a copy of a slice from a DataFrame.\n",
      "Try using .loc[row_indexer,col_indexer] = value instead\n",
      "\n",
      "See the caveats in the documentation: https://pandas.pydata.org/pandas-docs/stable/user_guide/indexing.html#returning-a-view-versus-a-copy\n",
      "\n"
     ]
    },
    {
     "data": {
      "application/vnd.plotly.v1+json": {
       "config": {
        "plotlyServerURL": "https://plot.ly"
       },
       "data": [
        {
         "type": "bar",
         "x": {
          "bdata": "AQIDBAUGBwgJCgsMDQ4PEBESExUWFxgZGhsd",
          "dtype": "i1"
         },
         "y": {
          "bdata": "ELABAH2SAgBP0gIATUICAJ5ZAQD4pwAA/k0AAMwjAAC0EAAAWAcAACwEAABtAQAA/AAAABwAAAAiAAAAJgAAAHkAAABJAAAARgAAACUAAAAtAAAAcQAAAGoAAAC/AAAAZwAAACUAAAA4AAAA",
          "dtype": "i4"
         }
        }
       ],
       "layout": {
        "template": {
         "data": {
          "bar": [
           {
            "error_x": {
             "color": "#2a3f5f"
            },
            "error_y": {
             "color": "#2a3f5f"
            },
            "marker": {
             "line": {
              "color": "#E5ECF6",
              "width": 0.5
             },
             "pattern": {
              "fillmode": "overlay",
              "size": 10,
              "solidity": 0.2
             }
            },
            "type": "bar"
           }
          ],
          "barpolar": [
           {
            "marker": {
             "line": {
              "color": "#E5ECF6",
              "width": 0.5
             },
             "pattern": {
              "fillmode": "overlay",
              "size": 10,
              "solidity": 0.2
             }
            },
            "type": "barpolar"
           }
          ],
          "carpet": [
           {
            "aaxis": {
             "endlinecolor": "#2a3f5f",
             "gridcolor": "white",
             "linecolor": "white",
             "minorgridcolor": "white",
             "startlinecolor": "#2a3f5f"
            },
            "baxis": {
             "endlinecolor": "#2a3f5f",
             "gridcolor": "white",
             "linecolor": "white",
             "minorgridcolor": "white",
             "startlinecolor": "#2a3f5f"
            },
            "type": "carpet"
           }
          ],
          "choropleth": [
           {
            "colorbar": {
             "outlinewidth": 0,
             "ticks": ""
            },
            "type": "choropleth"
           }
          ],
          "contour": [
           {
            "colorbar": {
             "outlinewidth": 0,
             "ticks": ""
            },
            "colorscale": [
             [
              0,
              "#0d0887"
             ],
             [
              0.1111111111111111,
              "#46039f"
             ],
             [
              0.2222222222222222,
              "#7201a8"
             ],
             [
              0.3333333333333333,
              "#9c179e"
             ],
             [
              0.4444444444444444,
              "#bd3786"
             ],
             [
              0.5555555555555556,
              "#d8576b"
             ],
             [
              0.6666666666666666,
              "#ed7953"
             ],
             [
              0.7777777777777778,
              "#fb9f3a"
             ],
             [
              0.8888888888888888,
              "#fdca26"
             ],
             [
              1,
              "#f0f921"
             ]
            ],
            "type": "contour"
           }
          ],
          "contourcarpet": [
           {
            "colorbar": {
             "outlinewidth": 0,
             "ticks": ""
            },
            "type": "contourcarpet"
           }
          ],
          "heatmap": [
           {
            "colorbar": {
             "outlinewidth": 0,
             "ticks": ""
            },
            "colorscale": [
             [
              0,
              "#0d0887"
             ],
             [
              0.1111111111111111,
              "#46039f"
             ],
             [
              0.2222222222222222,
              "#7201a8"
             ],
             [
              0.3333333333333333,
              "#9c179e"
             ],
             [
              0.4444444444444444,
              "#bd3786"
             ],
             [
              0.5555555555555556,
              "#d8576b"
             ],
             [
              0.6666666666666666,
              "#ed7953"
             ],
             [
              0.7777777777777778,
              "#fb9f3a"
             ],
             [
              0.8888888888888888,
              "#fdca26"
             ],
             [
              1,
              "#f0f921"
             ]
            ],
            "type": "heatmap"
           }
          ],
          "histogram": [
           {
            "marker": {
             "pattern": {
              "fillmode": "overlay",
              "size": 10,
              "solidity": 0.2
             }
            },
            "type": "histogram"
           }
          ],
          "histogram2d": [
           {
            "colorbar": {
             "outlinewidth": 0,
             "ticks": ""
            },
            "colorscale": [
             [
              0,
              "#0d0887"
             ],
             [
              0.1111111111111111,
              "#46039f"
             ],
             [
              0.2222222222222222,
              "#7201a8"
             ],
             [
              0.3333333333333333,
              "#9c179e"
             ],
             [
              0.4444444444444444,
              "#bd3786"
             ],
             [
              0.5555555555555556,
              "#d8576b"
             ],
             [
              0.6666666666666666,
              "#ed7953"
             ],
             [
              0.7777777777777778,
              "#fb9f3a"
             ],
             [
              0.8888888888888888,
              "#fdca26"
             ],
             [
              1,
              "#f0f921"
             ]
            ],
            "type": "histogram2d"
           }
          ],
          "histogram2dcontour": [
           {
            "colorbar": {
             "outlinewidth": 0,
             "ticks": ""
            },
            "colorscale": [
             [
              0,
              "#0d0887"
             ],
             [
              0.1111111111111111,
              "#46039f"
             ],
             [
              0.2222222222222222,
              "#7201a8"
             ],
             [
              0.3333333333333333,
              "#9c179e"
             ],
             [
              0.4444444444444444,
              "#bd3786"
             ],
             [
              0.5555555555555556,
              "#d8576b"
             ],
             [
              0.6666666666666666,
              "#ed7953"
             ],
             [
              0.7777777777777778,
              "#fb9f3a"
             ],
             [
              0.8888888888888888,
              "#fdca26"
             ],
             [
              1,
              "#f0f921"
             ]
            ],
            "type": "histogram2dcontour"
           }
          ],
          "mesh3d": [
           {
            "colorbar": {
             "outlinewidth": 0,
             "ticks": ""
            },
            "type": "mesh3d"
           }
          ],
          "parcoords": [
           {
            "line": {
             "colorbar": {
              "outlinewidth": 0,
              "ticks": ""
             }
            },
            "type": "parcoords"
           }
          ],
          "pie": [
           {
            "automargin": true,
            "type": "pie"
           }
          ],
          "scatter": [
           {
            "fillpattern": {
             "fillmode": "overlay",
             "size": 10,
             "solidity": 0.2
            },
            "type": "scatter"
           }
          ],
          "scatter3d": [
           {
            "line": {
             "colorbar": {
              "outlinewidth": 0,
              "ticks": ""
             }
            },
            "marker": {
             "colorbar": {
              "outlinewidth": 0,
              "ticks": ""
             }
            },
            "type": "scatter3d"
           }
          ],
          "scattercarpet": [
           {
            "marker": {
             "colorbar": {
              "outlinewidth": 0,
              "ticks": ""
             }
            },
            "type": "scattercarpet"
           }
          ],
          "scattergeo": [
           {
            "marker": {
             "colorbar": {
              "outlinewidth": 0,
              "ticks": ""
             }
            },
            "type": "scattergeo"
           }
          ],
          "scattergl": [
           {
            "marker": {
             "colorbar": {
              "outlinewidth": 0,
              "ticks": ""
             }
            },
            "type": "scattergl"
           }
          ],
          "scattermap": [
           {
            "marker": {
             "colorbar": {
              "outlinewidth": 0,
              "ticks": ""
             }
            },
            "type": "scattermap"
           }
          ],
          "scattermapbox": [
           {
            "marker": {
             "colorbar": {
              "outlinewidth": 0,
              "ticks": ""
             }
            },
            "type": "scattermapbox"
           }
          ],
          "scatterpolar": [
           {
            "marker": {
             "colorbar": {
              "outlinewidth": 0,
              "ticks": ""
             }
            },
            "type": "scatterpolar"
           }
          ],
          "scatterpolargl": [
           {
            "marker": {
             "colorbar": {
              "outlinewidth": 0,
              "ticks": ""
             }
            },
            "type": "scatterpolargl"
           }
          ],
          "scatterternary": [
           {
            "marker": {
             "colorbar": {
              "outlinewidth": 0,
              "ticks": ""
             }
            },
            "type": "scatterternary"
           }
          ],
          "surface": [
           {
            "colorbar": {
             "outlinewidth": 0,
             "ticks": ""
            },
            "colorscale": [
             [
              0,
              "#0d0887"
             ],
             [
              0.1111111111111111,
              "#46039f"
             ],
             [
              0.2222222222222222,
              "#7201a8"
             ],
             [
              0.3333333333333333,
              "#9c179e"
             ],
             [
              0.4444444444444444,
              "#bd3786"
             ],
             [
              0.5555555555555556,
              "#d8576b"
             ],
             [
              0.6666666666666666,
              "#ed7953"
             ],
             [
              0.7777777777777778,
              "#fb9f3a"
             ],
             [
              0.8888888888888888,
              "#fdca26"
             ],
             [
              1,
              "#f0f921"
             ]
            ],
            "type": "surface"
           }
          ],
          "table": [
           {
            "cells": {
             "fill": {
              "color": "#EBF0F8"
             },
             "line": {
              "color": "white"
             }
            },
            "header": {
             "fill": {
              "color": "#C8D4E3"
             },
             "line": {
              "color": "white"
             }
            },
            "type": "table"
           }
          ]
         },
         "layout": {
          "annotationdefaults": {
           "arrowcolor": "#2a3f5f",
           "arrowhead": 0,
           "arrowwidth": 1
          },
          "autotypenumbers": "strict",
          "coloraxis": {
           "colorbar": {
            "outlinewidth": 0,
            "ticks": ""
           }
          },
          "colorscale": {
           "diverging": [
            [
             0,
             "#8e0152"
            ],
            [
             0.1,
             "#c51b7d"
            ],
            [
             0.2,
             "#de77ae"
            ],
            [
             0.3,
             "#f1b6da"
            ],
            [
             0.4,
             "#fde0ef"
            ],
            [
             0.5,
             "#f7f7f7"
            ],
            [
             0.6,
             "#e6f5d0"
            ],
            [
             0.7,
             "#b8e186"
            ],
            [
             0.8,
             "#7fbc41"
            ],
            [
             0.9,
             "#4d9221"
            ],
            [
             1,
             "#276419"
            ]
           ],
           "sequential": [
            [
             0,
             "#0d0887"
            ],
            [
             0.1111111111111111,
             "#46039f"
            ],
            [
             0.2222222222222222,
             "#7201a8"
            ],
            [
             0.3333333333333333,
             "#9c179e"
            ],
            [
             0.4444444444444444,
             "#bd3786"
            ],
            [
             0.5555555555555556,
             "#d8576b"
            ],
            [
             0.6666666666666666,
             "#ed7953"
            ],
            [
             0.7777777777777778,
             "#fb9f3a"
            ],
            [
             0.8888888888888888,
             "#fdca26"
            ],
            [
             1,
             "#f0f921"
            ]
           ],
           "sequentialminus": [
            [
             0,
             "#0d0887"
            ],
            [
             0.1111111111111111,
             "#46039f"
            ],
            [
             0.2222222222222222,
             "#7201a8"
            ],
            [
             0.3333333333333333,
             "#9c179e"
            ],
            [
             0.4444444444444444,
             "#bd3786"
            ],
            [
             0.5555555555555556,
             "#d8576b"
            ],
            [
             0.6666666666666666,
             "#ed7953"
            ],
            [
             0.7777777777777778,
             "#fb9f3a"
            ],
            [
             0.8888888888888888,
             "#fdca26"
            ],
            [
             1,
             "#f0f921"
            ]
           ]
          },
          "colorway": [
           "#636efa",
           "#EF553B",
           "#00cc96",
           "#ab63fa",
           "#FFA15A",
           "#19d3f3",
           "#FF6692",
           "#B6E880",
           "#FF97FF",
           "#FECB52"
          ],
          "font": {
           "color": "#2a3f5f"
          },
          "geo": {
           "bgcolor": "white",
           "lakecolor": "white",
           "landcolor": "#E5ECF6",
           "showlakes": true,
           "showland": true,
           "subunitcolor": "white"
          },
          "hoverlabel": {
           "align": "left"
          },
          "hovermode": "closest",
          "mapbox": {
           "style": "light"
          },
          "paper_bgcolor": "white",
          "plot_bgcolor": "#E5ECF6",
          "polar": {
           "angularaxis": {
            "gridcolor": "white",
            "linecolor": "white",
            "ticks": ""
           },
           "bgcolor": "#E5ECF6",
           "radialaxis": {
            "gridcolor": "white",
            "linecolor": "white",
            "ticks": ""
           }
          },
          "scene": {
           "xaxis": {
            "backgroundcolor": "#E5ECF6",
            "gridcolor": "white",
            "gridwidth": 2,
            "linecolor": "white",
            "showbackground": true,
            "ticks": "",
            "zerolinecolor": "white"
           },
           "yaxis": {
            "backgroundcolor": "#E5ECF6",
            "gridcolor": "white",
            "gridwidth": 2,
            "linecolor": "white",
            "showbackground": true,
            "ticks": "",
            "zerolinecolor": "white"
           },
           "zaxis": {
            "backgroundcolor": "#E5ECF6",
            "gridcolor": "white",
            "gridwidth": 2,
            "linecolor": "white",
            "showbackground": true,
            "ticks": "",
            "zerolinecolor": "white"
           }
          },
          "shapedefaults": {
           "line": {
            "color": "#2a3f5f"
           }
          },
          "ternary": {
           "aaxis": {
            "gridcolor": "white",
            "linecolor": "white",
            "ticks": ""
           },
           "baxis": {
            "gridcolor": "white",
            "linecolor": "white",
            "ticks": ""
           },
           "bgcolor": "#E5ECF6",
           "caxis": {
            "gridcolor": "white",
            "linecolor": "white",
            "ticks": ""
           }
          },
          "title": {
           "x": 0.05
          },
          "xaxis": {
           "automargin": true,
           "gridcolor": "white",
           "linecolor": "white",
           "ticks": "",
           "title": {
            "standoff": 15
           },
           "zerolinecolor": "white",
           "zerolinewidth": 2
          },
          "yaxis": {
           "automargin": true,
           "gridcolor": "white",
           "linecolor": "white",
           "ticks": "",
           "title": {
            "standoff": 15
           },
           "zerolinecolor": "white",
           "zerolinewidth": 2
          }
         }
        },
        "title": {
         "text": "Distribution of query words"
        },
        "xaxis": {
         "title": {
          "text": "Number of words in query"
         }
        },
        "yaxis": {
         "title": {
          "text": "Frequency"
         }
        }
       }
      }
     },
     "metadata": {},
     "output_type": "display_data"
    }
   ],
   "source": [
    "# plot distribution of query length\n",
    "df_task_1_train[\"query_length\"] = df_task_1_train[\"query\"].str.split().str.len()\n",
    "\n",
    "# count words\n",
    "length_counts = df_task_1_train[\"query_length\"].value_counts().sort_index()\n",
    "\n",
    "fig = go.Figure(\n",
    "    data=[\n",
    "        go.Bar(\n",
    "            x=length_counts.index,\n",
    "            y=length_counts.values,\n",
    "        )\n",
    "    ]\n",
    ")\n",
    "\n",
    "fig.update_layout(\n",
    "    title=\"Distribution of query words\",\n",
    "    xaxis_title=\"Number of words in query\",\n",
    "    yaxis_title=\"Frequency\",\n",
    ")\n",
    "\n",
    "fig.show()"
   ]
  },
  {
   "cell_type": "markdown",
   "id": "12c3257c",
   "metadata": {},
   "source": [
    "### ESCI understanding\n",
    "- E: Exact\n",
    "- S: Substitute\n",
    "- C: Complement\n",
    "- I: Irrelevant\n",
    "\n",
    "These provide rough ranks for the judgements per query_id."
   ]
  },
  {
   "cell_type": "code",
   "execution_count": null,
   "id": "5f944e15",
   "metadata": {},
   "outputs": [
    {
     "data": {
      "text/plain": [
       "esci_label\n",
       "C    0.053341\n",
       "E    0.437810\n",
       "I    0.163013\n",
       "S    0.345836\n",
       "dtype: float64"
      ]
     },
     "execution_count": 111,
     "metadata": {},
     "output_type": "execute_result"
    }
   ],
   "source": [
    "# calculate the average esci ratio for each query_id\n",
    "esci_counts = df_task_1.groupby(['query_id', 'esci_label']).size().unstack(fill_value=0)\n",
    "esci_ratios = esci_counts.div(esci_counts.sum(axis=1), axis=0)\n",
    "avg_esci_ratio = esci_ratios.mean(axis=0)\n",
    "\n",
    "avg_esci_ratio"
   ]
  },
  {
   "cell_type": "markdown",
   "id": "32a342f9",
   "metadata": {},
   "source": [
    "### Easy metric evaluation \n",
    "\n",
    "Using a simple cosine_similarity, calculate the ndcg between query-title using the ESCI weightings\n"
   ]
  },
  {
   "cell_type": "code",
   "execution_count": null,
   "id": "69b5399c",
   "metadata": {},
   "outputs": [
    {
     "data": {
      "text/html": [
       "<div>\n",
       "<style scoped>\n",
       "    .dataframe tbody tr th:only-of-type {\n",
       "        vertical-align: middle;\n",
       "    }\n",
       "\n",
       "    .dataframe tbody tr th {\n",
       "        vertical-align: top;\n",
       "    }\n",
       "\n",
       "    .dataframe thead th {\n",
       "        text-align: right;\n",
       "    }\n",
       "</style>\n",
       "<table border=\"1\" class=\"dataframe\">\n",
       "  <thead>\n",
       "    <tr style=\"text-align: right;\">\n",
       "      <th></th>\n",
       "      <th>example_id</th>\n",
       "      <th>query</th>\n",
       "      <th>query_id</th>\n",
       "      <th>product_id</th>\n",
       "      <th>product_locale</th>\n",
       "      <th>esci_label</th>\n",
       "      <th>small_version</th>\n",
       "      <th>large_version</th>\n",
       "      <th>split</th>\n",
       "      <th>product_title</th>\n",
       "      <th>product_description</th>\n",
       "      <th>product_bullet_point</th>\n",
       "      <th>product_brand</th>\n",
       "      <th>product_color</th>\n",
       "    </tr>\n",
       "  </thead>\n",
       "  <tbody>\n",
       "    <tr>\n",
       "      <th>32</th>\n",
       "      <td>32</td>\n",
       "      <td>!qscreen fence without holes</td>\n",
       "      <td>2</td>\n",
       "      <td>B07D7TBSGH</td>\n",
       "      <td>us</td>\n",
       "      <td>I</td>\n",
       "      <td>1</td>\n",
       "      <td>1</td>\n",
       "      <td>test</td>\n",
       "      <td>FOTMISHU 6Pcs Greenhouse Hoops Rust-Free Grow ...</td>\n",
       "      <td>&lt;p&gt;&lt;b&gt;Description:&lt;/b&gt;&lt;br&gt;&lt;b&gt;Material:&lt;/b&gt;plas...</td>\n",
       "      <td>►Material -- High-quality plastic coated steel...</td>\n",
       "      <td>FOTMISHU</td>\n",
       "      <td>green</td>\n",
       "    </tr>\n",
       "    <tr>\n",
       "      <th>33</th>\n",
       "      <td>33</td>\n",
       "      <td>!qscreen fence without holes</td>\n",
       "      <td>2</td>\n",
       "      <td>B07DHT2WZK</td>\n",
       "      <td>us</td>\n",
       "      <td>I</td>\n",
       "      <td>1</td>\n",
       "      <td>1</td>\n",
       "      <td>test</td>\n",
       "      <td>Zippity Outdoor Products ZP19028 Unassembled M...</td>\n",
       "      <td>None</td>\n",
       "      <td>Designed for the Madison Vinyl Fence (item ZP1...</td>\n",
       "      <td>Zippity Outdoor Products</td>\n",
       "      <td>White</td>\n",
       "    </tr>\n",
       "    <tr>\n",
       "      <th>34</th>\n",
       "      <td>34</td>\n",
       "      <td>!qscreen fence without holes</td>\n",
       "      <td>2</td>\n",
       "      <td>B07DHX8YH2</td>\n",
       "      <td>us</td>\n",
       "      <td>E</td>\n",
       "      <td>1</td>\n",
       "      <td>1</td>\n",
       "      <td>test</td>\n",
       "      <td>Zippity Outdoor Products ZP19026 Lightweight P...</td>\n",
       "      <td>None</td>\n",
       "      <td>Designed as a portable fence for temporary eve...</td>\n",
       "      <td>Zippity Outdoor Products</td>\n",
       "      <td>White</td>\n",
       "    </tr>\n",
       "    <tr>\n",
       "      <th>35</th>\n",
       "      <td>35</td>\n",
       "      <td>!qscreen fence without holes</td>\n",
       "      <td>2</td>\n",
       "      <td>B07DS1YCRZ</td>\n",
       "      <td>us</td>\n",
       "      <td>S</td>\n",
       "      <td>1</td>\n",
       "      <td>1</td>\n",
       "      <td>test</td>\n",
       "      <td>ColourTree 4' x 50' Green Fence Privacy Screen...</td>\n",
       "      <td>None</td>\n",
       "      <td>★【Virgin, UV Stabilized Compounds &amp; Thick Mate...</td>\n",
       "      <td>ColourTree</td>\n",
       "      <td>Green 2nd Generation</td>\n",
       "    </tr>\n",
       "    <tr>\n",
       "      <th>36</th>\n",
       "      <td>36</td>\n",
       "      <td>!qscreen fence without holes</td>\n",
       "      <td>2</td>\n",
       "      <td>B07DS3J3MB</td>\n",
       "      <td>us</td>\n",
       "      <td>S</td>\n",
       "      <td>1</td>\n",
       "      <td>1</td>\n",
       "      <td>test</td>\n",
       "      <td>ColourTree 6' x 50' Black Fence Privacy Screen...</td>\n",
       "      <td>None</td>\n",
       "      <td>★【Virgin, UV Stabilized Compounds &amp; Thick Mate...</td>\n",
       "      <td>ColourTree</td>\n",
       "      <td>Black 2nd Generation</td>\n",
       "    </tr>\n",
       "  </tbody>\n",
       "</table>\n",
       "</div>"
      ],
      "text/plain": [
       "    example_id                         query  query_id  product_id  \\\n",
       "32          32  !qscreen fence without holes         2  B07D7TBSGH   \n",
       "33          33  !qscreen fence without holes         2  B07DHT2WZK   \n",
       "34          34  !qscreen fence without holes         2  B07DHX8YH2   \n",
       "35          35  !qscreen fence without holes         2  B07DS1YCRZ   \n",
       "36          36  !qscreen fence without holes         2  B07DS3J3MB   \n",
       "\n",
       "   product_locale esci_label  small_version  large_version split  \\\n",
       "32             us          I              1              1  test   \n",
       "33             us          I              1              1  test   \n",
       "34             us          E              1              1  test   \n",
       "35             us          S              1              1  test   \n",
       "36             us          S              1              1  test   \n",
       "\n",
       "                                        product_title  \\\n",
       "32  FOTMISHU 6Pcs Greenhouse Hoops Rust-Free Grow ...   \n",
       "33  Zippity Outdoor Products ZP19028 Unassembled M...   \n",
       "34  Zippity Outdoor Products ZP19026 Lightweight P...   \n",
       "35  ColourTree 4' x 50' Green Fence Privacy Screen...   \n",
       "36  ColourTree 6' x 50' Black Fence Privacy Screen...   \n",
       "\n",
       "                                  product_description  \\\n",
       "32  <p><b>Description:</b><br><b>Material:</b>plas...   \n",
       "33                                               None   \n",
       "34                                               None   \n",
       "35                                               None   \n",
       "36                                               None   \n",
       "\n",
       "                                 product_bullet_point  \\\n",
       "32  ►Material -- High-quality plastic coated steel...   \n",
       "33  Designed for the Madison Vinyl Fence (item ZP1...   \n",
       "34  Designed as a portable fence for temporary eve...   \n",
       "35  ★【Virgin, UV Stabilized Compounds & Thick Mate...   \n",
       "36  ★【Virgin, UV Stabilized Compounds & Thick Mate...   \n",
       "\n",
       "               product_brand         product_color  \n",
       "32                  FOTMISHU                 green  \n",
       "33  Zippity Outdoor Products                 White  \n",
       "34  Zippity Outdoor Products                 White  \n",
       "35                ColourTree  Green 2nd Generation  \n",
       "36                ColourTree  Black 2nd Generation  "
      ]
     },
     "execution_count": 129,
     "metadata": {},
     "output_type": "execute_result"
    }
   ],
   "source": [
    "one_query.head()"
   ]
  },
  {
   "cell_type": "code",
   "execution_count": 151,
   "id": "07bfde24",
   "metadata": {},
   "outputs": [
    {
     "name": "stderr",
     "output_type": "stream",
     "text": [
      "C:\\Users\\ellen\\AppData\\Local\\Temp\\ipykernel_26464\\1639211472.py:11: SettingWithCopyWarning:\n",
      "\n",
      "\n",
      "A value is trying to be set on a copy of a slice from a DataFrame.\n",
      "Try using .loc[row_indexer,col_indexer] = value instead\n",
      "\n",
      "See the caveats in the documentation: https://pandas.pydata.org/pandas-docs/stable/user_guide/indexing.html#returning-a-view-versus-a-copy\n",
      "\n",
      "C:\\Users\\ellen\\AppData\\Local\\Temp\\ipykernel_26464\\1639211472.py:24: SettingWithCopyWarning:\n",
      "\n",
      "\n",
      "A value is trying to be set on a copy of a slice from a DataFrame.\n",
      "Try using .loc[row_indexer,col_indexer] = value instead\n",
      "\n",
      "See the caveats in the documentation: https://pandas.pydata.org/pandas-docs/stable/user_guide/indexing.html#returning-a-view-versus-a-copy\n",
      "\n"
     ]
    },
    {
     "data": {
      "text/plain": [
       "np.float64(0.3881064391080875)"
      ]
     },
     "execution_count": 151,
     "metadata": {},
     "output_type": "execute_result"
    }
   ],
   "source": [
    "one_query = df_task_1[df_task_1['query_id'] == 2]\n",
    "\n",
    "# calculate cosine similarity between pairs of query-title\n",
    "vectorizer = TfidfVectorizer()\n",
    "\n",
    "def calculate_cosine_similarity(query, title):\n",
    "    vectors = vectorizer.fit_transform([query, title])\n",
    "    cosine_sim = cosine_similarity(vectors[0], vectors[1])\n",
    "    return cosine_sim.item()\n",
    "\n",
    "one_query['cosine_similarity'] = one_query.apply(lambda row: calculate_cosine_similarity(\n",
    "    row['query'], \n",
    "    row['product_title']), \n",
    "    axis=1)\n",
    "\n",
    "# apply esci mapping to esci label\n",
    "esci_weighting = {\n",
    "    'E': 3,\n",
    "    'S': 2,\n",
    "    'C': 1,\n",
    "    'I': 0\n",
    "}\n",
    "\n",
    "one_query['relevance'] = one_query['esci_label'].map(esci_weighting)\n",
    "\n",
    "# use ranx system to calculate ndcg\n",
    "qrels_dict = {}\n",
    "run_dict = {}\n",
    "\n",
    "for query_id, group in one_query.groupby(\"query_id\"):\n",
    "    query_id_str = str(query_id)\n",
    "    qrels_dict[query_id_str] = {str(example): int(relevance) for example, relevance in zip(group[\"example_id\"], group[\"relevance\"])}\n",
    "    run_dict[query_id_str] = {str(example): float(score) for example, score in zip(group[\"example_id\"], group[\"cosine_similarity\"])}\n",
    "\n",
    "qrels = Qrels(qrels_dict)\n",
    "run = Run(run_dict)\n",
    "\n",
    "results = evaluate(qrels, run, metrics=\"ndcg@10\")\n",
    "results"
   ]
  },
  {
   "cell_type": "markdown",
   "id": "c492d55d",
   "metadata": {},
   "source": [
    "### Model evaluation\n",
    "Amazon trained and finetuned a BERT model to evaluate on the amazon-esci dataset. They use this dataset for three use cases - query product ranking, multiclass product classification and product substitute identification. For their first use case, they fine tuned a MS MARCO Cross-Encoder for the us locale. For their es and jp locales, they finetuned a multilingual MPNet. \n",
    "\n",
    "![dataset-benchmark](imgs/amazon_finetune_results.png)"
   ]
  },
  {
   "cell_type": "code",
   "execution_count": null,
   "id": "7b163f67",
   "metadata": {},
   "outputs": [],
   "source": []
  }
 ],
 "metadata": {
  "language_info": {
   "name": "python"
  }
 },
 "nbformat": 4,
 "nbformat_minor": 5
}
